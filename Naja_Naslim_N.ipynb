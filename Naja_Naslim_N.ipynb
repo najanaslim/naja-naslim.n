{
  "nbformat": 4,
  "nbformat_minor": 0,
  "metadata": {
    "colab": {
      "provenance": []
    },
    "kernelspec": {
      "name": "python3",
      "display_name": "Python 3"
    },
    "language_info": {
      "name": "python"
    }
  },
  "cells": [
    {
      "cell_type": "code",
      "execution_count": null,
      "metadata": {
        "colab": {
          "base_uri": "https://localhost:8080/",
          "height": 53
        },
        "id": "c0cuMGjp8Y6Z",
        "outputId": "521506f3-01d6-4d91-cd58-0ea2643a652c"
      },
      "outputs": [
        {
          "output_type": "execute_result",
          "data": {
            "text/plain": [
              "'Write a Python function to accept a string value from the user and display the\\ncount of each character in that string. Sample input: Enter a string value:\\nassembly Sample output: a=1, s=2, e=1, m=1, b=1, l=1, y=1'"
            ],
            "application/vnd.google.colaboratory.intrinsic+json": {
              "type": "string"
            }
          },
          "metadata": {},
          "execution_count": 5
        }
      ],
      "source": [
        "'''Write a Python function to accept a string value from the user and display the\n",
        "count of each character in that string. Sample input: Enter a string value:\n",
        "assembly Sample output: a=1, s=2, e=1, m=1, b=1, l=1, y=1'''\n",
        "\n",
        "\n",
        "\n"
      ]
    },
    {
      "cell_type": "code",
      "source": [
        "'''Write a Python function to find the maximum of three numbers Sample input:\n",
        "34,12,7 Sample output: 34 '''\n",
        "\n"
      ],
      "metadata": {
        "colab": {
          "base_uri": "https://localhost:8080/",
          "height": 35
        },
        "id": "i86-RUhfDJba",
        "outputId": "64ae3a36-62cd-4437-e23b-1a68a9465e62"
      },
      "execution_count": null,
      "outputs": [
        {
          "output_type": "execute_result",
          "data": {
            "text/plain": [
              "'Write a Python function to find the maximum of three numbers Sample input:\\n34,12,7 Sample output: 34 '"
            ],
            "application/vnd.google.colaboratory.intrinsic+json": {
              "type": "string"
            }
          },
          "metadata": {},
          "execution_count": 8
        }
      ]
    },
    {
      "cell_type": "code",
      "source": [
        "def maximum(a, b, c):\n",
        "\n",
        "    if (a >= b) and (a >= c):\n",
        "        largest = a\n",
        "\n",
        "    elif (b >= a) and (b >= c):\n",
        "        largest = b\n",
        "    else:\n",
        "        largest = c\n",
        "\n",
        "    return largest\n",
        "a = 34\n",
        "b = 12\n",
        "c = 7\n",
        "print(maximum(a, b, c))\n"
      ],
      "metadata": {
        "id": "vmilIZaA8_aT",
        "colab": {
          "base_uri": "https://localhost:8080/"
        },
        "outputId": "805d83ff-9bd7-4602-d8b1-e7f907c3f71d"
      },
      "execution_count": null,
      "outputs": [
        {
          "output_type": "stream",
          "name": "stdout",
          "text": [
            "34\n"
          ]
        }
      ]
    },
    {
      "cell_type": "code",
      "source": [
        "''' Write a Python function called exponent(base,exp) that returns an integer\n",
        "value of base raises to the power of exp. Sample input: Enter the base: 2\n",
        "Enter the exponent: 3 Sample output: 8 '''"
      ],
      "metadata": {
        "colab": {
          "base_uri": "https://localhost:8080/",
          "height": 53
        },
        "id": "f7pRYBl0EI17",
        "outputId": "5e997bb7-77bb-457c-ea66-b91bf06a3a30"
      },
      "execution_count": null,
      "outputs": [
        {
          "output_type": "execute_result",
          "data": {
            "text/plain": [
              "' Write a Python function called exponent(base,exp) that returns an integer\\nvalue of base raises to the power of exp. Sample input: Enter the base: 2\\nEnter the exponent: 3 Sample output: 8 '"
            ],
            "application/vnd.google.colaboratory.intrinsic+json": {
              "type": "string"
            }
          },
          "metadata": {},
          "execution_count": 10
        }
      ]
    },
    {
      "cell_type": "code",
      "source": [
        "def power(base,exp):\n",
        "    if(exp==1):\n",
        "        return(base)\n",
        "    if(exp!=1):\n",
        "        return(base*power(base,exp-1))\n",
        "base=int(input(\"Enter base: \"))\n",
        "exp=int(input(\"Enter exponential value: \"))\n",
        "print(\"Result:\",power(base,exp))"
      ],
      "metadata": {
        "colab": {
          "base_uri": "https://localhost:8080/"
        },
        "id": "9wes_qALDGWV",
        "outputId": "4b0eeda3-0a5d-4c67-c826-1cb17637116d"
      },
      "execution_count": null,
      "outputs": [
        {
          "output_type": "stream",
          "name": "stdout",
          "text": [
            "Enter base: 2\n",
            "Enter exponential value: 3\n",
            "Result: 8\n"
          ]
        }
      ]
    },
    {
      "cell_type": "code",
      "source": [
        "'''Write a Python function that takes a positive integer and returns the sum of\n",
        "the cube of all the positive integers smaller than the specified number.\n",
        "Sample input: 4 Sample output: 36.'''"
      ],
      "metadata": {
        "colab": {
          "base_uri": "https://localhost:8080/",
          "height": 53
        },
        "id": "tzUGRJsgERat",
        "outputId": "fd041d69-67db-409d-8e0f-c9e28a6eb579"
      },
      "execution_count": null,
      "outputs": [
        {
          "output_type": "execute_result",
          "data": {
            "text/plain": [
              "'Write a Python function that takes a positive integer and returns the sum of\\nthe cube of all the positive integers smaller than the specified number.\\nSample input: 4 Sample output: 36.'"
            ],
            "application/vnd.google.colaboratory.intrinsic+json": {
              "type": "string"
            }
          },
          "metadata": {},
          "execution_count": 11
        }
      ]
    },
    {
      "cell_type": "code",
      "source": [
        "def sum_square(n):\n",
        "    result = 0\n",
        "    if n > 0:\n",
        "        for i in range(n):\n",
        "            result += i * i\n",
        "        return result\n",
        "    elif n <= 4:\n",
        "        raise ValueError(\"n should be positive\")"
      ],
      "metadata": {
        "id": "TbSvsBcPKGky"
      },
      "execution_count": null,
      "outputs": []
    },
    {
      "cell_type": "code",
      "source": [
        "'''Write a Python program which iterates from 1 to 10. For multiples of 2, print\n",
        "“Fizz” instead of the number and for the multiples of 5, print “Buzz”. For\n",
        "numbers which are multiples of both 2 and 5, print “FizzBuzz”.'''"
      ],
      "metadata": {
        "colab": {
          "base_uri": "https://localhost:8080/",
          "height": 53
        },
        "id": "yt4koeCQKmqM",
        "outputId": "8fb35b06-03ba-4357-9cfa-ef2e5f9adb4b"
      },
      "execution_count": null,
      "outputs": [
        {
          "output_type": "execute_result",
          "data": {
            "text/plain": [
              "'Write a Python program which iterates from 1 to 10. For multiples of 2, print\\n“Fizz” instead of the number and for the multiples of 5, print “Buzz”. For\\nnumbers which are multiples of both 2 and 5, print “FizzBuzz”.'"
            ],
            "application/vnd.google.colaboratory.intrinsic+json": {
              "type": "string"
            }
          },
          "metadata": {},
          "execution_count": 35
        }
      ]
    },
    {
      "cell_type": "code",
      "source": [
        "def fizz_buzz(num):\n",
        "    if num%2==5and num%5==2:\n",
        "        return 'FizzBuzz'\n",
        "\n",
        "    elif num % 2 == 0:\n",
        "        return 'Fizz'\n",
        "\n",
        "    elif num % 5==0:\n",
        "        return 'Buzz'\n",
        "    else:\n",
        "        return num\n",
        "\n",
        "for n in range(1,10):\n",
        "    print(fizz_buzz(n))"
      ],
      "metadata": {
        "colab": {
          "base_uri": "https://localhost:8080/"
        },
        "id": "Urvu4CtzK9C_",
        "outputId": "3892748f-4260-439e-a865-f1c02402c1f0"
      },
      "execution_count": null,
      "outputs": [
        {
          "output_type": "stream",
          "name": "stdout",
          "text": [
            "1\n",
            "Fizz\n",
            "3\n",
            "Fizz\n",
            "Buzz\n",
            "Fizz\n",
            "7\n",
            "Fizz\n",
            "9\n"
          ]
        }
      ]
    },
    {
      "cell_type": "code",
      "source": [
        "'''Write a Python function to find the most frequent item in a list of number.'''\n",
        "\n"
      ],
      "metadata": {
        "colab": {
          "base_uri": "https://localhost:8080/",
          "height": 35
        },
        "id": "aLNJKwwxLqSM",
        "outputId": "372bb5e8-08d5-4c0a-96e4-d2a3c3567ad5"
      },
      "execution_count": null,
      "outputs": [
        {
          "output_type": "execute_result",
          "data": {
            "text/plain": [
              "'Write a Python function to find the most frequent item in a list of number.'"
            ],
            "application/vnd.google.colaboratory.intrinsic+json": {
              "type": "string"
            }
          },
          "metadata": {},
          "execution_count": 41
        }
      ]
    },
    {
      "cell_type": "code",
      "source": [
        "def most_frequent(List):\n",
        "  return max(set(List),key = List.count)\n",
        "List = [2,3,4,2,5,2]\n",
        "print(most_frequent(List))"
      ],
      "metadata": {
        "colab": {
          "base_uri": "https://localhost:8080/"
        },
        "id": "F761zBcYhR3-",
        "outputId": "937f86bf-effd-4378-ea60-8c2a80944135"
      },
      "execution_count": null,
      "outputs": [
        {
          "output_type": "stream",
          "name": "stdout",
          "text": [
            "2\n"
          ]
        }
      ]
    },
    {
      "cell_type": "code",
      "source": [
        "'''Write a Python function to find the sum of squares of the numbers in a list.'''\n"
      ],
      "metadata": {
        "colab": {
          "base_uri": "https://localhost:8080/",
          "height": 35
        },
        "id": "h3ti8YwoNYMz",
        "outputId": "a74333a3-1185-40bf-a37e-7bda4b019356"
      },
      "execution_count": null,
      "outputs": [
        {
          "output_type": "execute_result",
          "data": {
            "text/plain": [
              "'Write a Python function to find the sum of squares of the numbers in a list.'"
            ],
            "application/vnd.google.colaboratory.intrinsic+json": {
              "type": "string"
            }
          },
          "metadata": {},
          "execution_count": 49
        }
      ]
    },
    {
      "cell_type": "code",
      "source": [
        "test_list = [2,1,3,1]\n",
        "print(\"The original list is : \" + str(test_list))\n",
        "print(\"The sum of squares of list is : \" + str(res))"
      ],
      "metadata": {
        "colab": {
          "base_uri": "https://localhost:8080/"
        },
        "id": "pHp5sdS_ReBd",
        "outputId": "73263ee4-8a6a-4928-86ac-7fc044bba169"
      },
      "execution_count": null,
      "outputs": [
        {
          "output_type": "stream",
          "name": "stdout",
          "text": [
            "The original list is : [2, 1, 3, 1]\n",
            "The sum of squares of list is : 15\n"
          ]
        }
      ]
    },
    {
      "cell_type": "code",
      "source": [
        "'''Write a Python program using for loop that will iterate from 1 to 15. For each\n",
        "iteration, check if the current number is odd or even, and display the message\n",
        "to the screen as odd or even.'''"
      ],
      "metadata": {
        "colab": {
          "base_uri": "https://localhost:8080/",
          "height": 53
        },
        "id": "ORAQZ-ZdSMuQ",
        "outputId": "2175ae89-c478-4505-e5f7-af98f5d87cc9"
      },
      "execution_count": null,
      "outputs": [
        {
          "output_type": "execute_result",
          "data": {
            "text/plain": [
              "'Write a Python program using for loop that will iterate from 1 to 15. For each\\niteration, check if the current number is odd or even, and display the message\\nto the screen as odd or even.'"
            ],
            "application/vnd.google.colaboratory.intrinsic+json": {
              "type": "string"
            }
          },
          "metadata": {},
          "execution_count": 64
        }
      ]
    },
    {
      "cell_type": "code",
      "source": [
        "for i in range(1,15):\n",
        "  if i % 2 == 0:\n",
        "    print(i, \"is even\")\n",
        "else:\n",
        "  print(i,\"is odd\")"
      ],
      "metadata": {
        "colab": {
          "base_uri": "https://localhost:8080/"
        },
        "id": "NpWF1XVGU2qh",
        "outputId": "03e0e003-2604-4b7e-b1c2-67c48f9cf007"
      },
      "execution_count": null,
      "outputs": [
        {
          "output_type": "stream",
          "name": "stdout",
          "text": [
            "2 is even\n",
            "4 is even\n",
            "6 is even\n",
            "8 is even\n",
            "10 is even\n",
            "12 is even\n",
            "14 is even\n",
            "14 is odd\n"
          ]
        }
      ]
    },
    {
      "cell_type": "code",
      "source": [
        "'''Write a Python function to convert temperatures to and from Celsius\n",
        "Fahrenheit. [Formula: c/5=f-32/9 where c=temperature in Celsius and f=\n",
        "temperature in Fahrenheit.]'''"
      ],
      "metadata": {
        "colab": {
          "base_uri": "https://localhost:8080/",
          "height": 53
        },
        "id": "YfXAZCzRVjLK",
        "outputId": "afea8425-180d-4e72-9479-9681969d077b"
      },
      "execution_count": null,
      "outputs": [
        {
          "output_type": "execute_result",
          "data": {
            "text/plain": [
              "'Write a Python function to convert temperatures to and from Celsius\\nFahrenheit. [Formula: c/5=f-32/9 where c=temperature in Celsius and f=\\ntemperature in Fahrenheit.]'"
            ],
            "application/vnd.google.colaboratory.intrinsic+json": {
              "type": "string"
            }
          },
          "metadata": {},
          "execution_count": 85
        }
      ]
    },
    {
      "cell_type": "code",
      "source": [
        "def celsius_to_fahrenheit(celsius):\n",
        "    fahrenheit = (celsius * 32/9) + 5\n",
        "    return fahrenheit\n",
        "celsius = float(input(\"Enter temperature in Celsius: \"))\n",
        "fahrenheit = celsius_to_fahrenheit(celsius)\n",
        "print(\"Temperature in Fahrenheit:\", fahrenheit)"
      ],
      "metadata": {
        "colab": {
          "base_uri": "https://localhost:8080/"
        },
        "id": "MbW_9ChGby0A",
        "outputId": "e523c468-bd4a-4246-ab14-ebffec889f85"
      },
      "execution_count": null,
      "outputs": [
        {
          "output_type": "stream",
          "name": "stdout",
          "text": [
            "Enter temperature in Celsius: 5\n",
            "Temperature in Fahrenheit: 22.77777777777778\n"
          ]
        }
      ]
    },
    {
      "cell_type": "code",
      "source": [
        "'''Write a Python function to calculate the factorial of a number (a nonnegative\n",
        "integer). The function accepts the number as an argument'''"
      ],
      "metadata": {
        "colab": {
          "base_uri": "https://localhost:8080/",
          "height": 35
        },
        "id": "qb67SEmUclI1",
        "outputId": "4c50b698-4aa7-4911-fab2-ccd3b51ab7ec"
      },
      "execution_count": null,
      "outputs": [
        {
          "output_type": "execute_result",
          "data": {
            "text/plain": [
              "'Write a Python function to calculate the factorial of a number (a nonnegative\\ninteger). The function accepts the number as an argument'"
            ],
            "application/vnd.google.colaboratory.intrinsic+json": {
              "type": "string"
            }
          },
          "metadata": {},
          "execution_count": 87
        }
      ]
    },
    {
      "cell_type": "code",
      "source": [
        "def factorial(n):\n",
        "  if n == 0:\n",
        "     return 1\n",
        "  else:\n",
        "      return n * factorial(n - 1)\n",
        "n = int(input(\"Input a number to compute the factorial:\"))\n",
        "print(factorial(n))\n",
        "\n"
      ],
      "metadata": {
        "colab": {
          "base_uri": "https://localhost:8080/"
        },
        "id": "6hcdX4KSe7xt",
        "outputId": "ffb9f4f9-c8f0-48e7-b1dd-64eaed702434"
      },
      "execution_count": null,
      "outputs": [
        {
          "output_type": "stream",
          "name": "stdout",
          "text": [
            "Input a number to compute the factorial:3\n",
            "6\n"
          ]
        }
      ]
    },
    {
      "cell_type": "code",
      "source": [
        "'''In this case study, you have to create a program that calculates the final\n",
        "grade for a student based on their scores in different assessments. The\n",
        "program will take input from the user, perform calculations, and display the\n",
        "final grade along with additional information.\n",
        "Requirements:\n",
        "1. The program should prompt the user to enter the following information:\n",
        "• Student's name\n",
        "• Number of assessments (e.g., assignments, quizzes, exams)\n",
        "• Weight (percentage) of each assessment type\n",
        "2. For each assessment type, the program should ask the user to enter:\n",
        "• Number of assessments of that type\n",
        "• Score obtained for each assessment.\n",
        "3. The program should calculate the weighted average score for each\n",
        "assessment type.\n",
        "4. The program should then calculate the final grade using the weighted\n",
        "average scores and the weights provided by the user.\n",
        "5. The program should display the following information:\n",
        "• Student's name\n",
        "• Weighted average score for each assessment type\n",
        "• Final grade\n",
        "• Letter grade based on a grading scale (e.g., A, B, C, D, F)\n",
        "6. The program should have a function to determine the letter grade based\n",
        "on the final grade.'''\n"
      ],
      "metadata": {
        "colab": {
          "base_uri": "https://localhost:8080/",
          "height": 140
        },
        "id": "PIEw6Nmpmdcn",
        "outputId": "b5700c85-ed66-4187-c9cb-822a9fdd5c75"
      },
      "execution_count": null,
      "outputs": [
        {
          "output_type": "execute_result",
          "data": {
            "text/plain": [
              "\"In this case study, you have to create a program that calculates the final\\ngrade for a student based on their scores in different assessments. The\\nprogram will take input from the user, perform calculations, and display the\\nfinal grade along with additional information.\\nRequirements:\\n1. The program should prompt the user to enter the following information:\\n• Student's name\\n• Number of assessments (e.g., assignments, quizzes, exams)\\n• Weight (percentage) of each assessment type\\n2. For each assessment type, the program should ask the user to enter:\\n• Number of assessments of that type\\n• Score obtained for each assessment.\\n3. The program should calculate the weighted average score for each\\nassessment type.\\n4. The program should then calculate the final grade using the weighted\\naverage scores and the weights provided by the user.\\n5. The program should display the following information:\\n• Student's name\\n• Weighted average score for each assessment type\\n• Final grade\\n• Letter grade based on a grading scale (e.g., A, B, C, D, F)\\n6. The program should have a function to determine the letter grade based\\non the final grade.\""
            ],
            "application/vnd.google.colaboratory.intrinsic+json": {
              "type": "string"
            }
          },
          "metadata": {},
          "execution_count": 126
        }
      ]
    },
    {
      "cell_type": "code",
      "source": [
        "mark = []\n",
        "total = 0\n",
        "print(\"Enter Marks Obtained in 6 Subjects: \")\n",
        "for i in range(6):\n",
        "    mark.insert(i, int(input()))\n",
        "for i in range(6):\n",
        "    total = total + mark[i]\n",
        "\n",
        "avg = total/5\n",
        "per = (total/500)*100\n",
        "print(\"Your percentage: \",per)\n"
      ],
      "metadata": {
        "colab": {
          "base_uri": "https://localhost:8080/"
        },
        "id": "tMQpm5PLkUWd",
        "outputId": "656e4ce9-bcc3-48ba-89f7-49649a290641"
      },
      "execution_count": null,
      "outputs": [
        {
          "output_type": "stream",
          "name": "stdout",
          "text": [
            "Enter Marks Obtained in 6 Subjects: \n",
            "35\n",
            "36\n",
            "37\n",
            "40\n",
            "50\n",
            "55\n",
            "Your percentage:  50.6\n"
          ]
        }
      ]
    },
    {
      "cell_type": "code",
      "source": [],
      "metadata": {
        "id": "TEhQNsOEnP-7"
      },
      "execution_count": null,
      "outputs": []
    }
  ]
}